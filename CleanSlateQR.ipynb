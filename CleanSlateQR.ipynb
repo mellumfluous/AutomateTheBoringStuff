{
 "cells": [
  {
   "cell_type": "code",
   "execution_count": null,
   "id": "d9b44093",
   "metadata": {},
   "outputs": [],
   "source": [
    "# Before running these, make sure you have a folder called \"qr\" in the same directory as this ipynb file\n",
    "# You can also insert a column after ItemNumber and call it something like \"QRCode\" so that that's where the qrcodes are"
   ]
  },
  {
   "cell_type": "code",
   "execution_count": null,
   "id": "76d7897b",
   "metadata": {},
   "outputs": [],
   "source": [
    "# Run this if you don't have them installed already\n",
    "\n",
    "# pip install pandas\n",
    "# pip install qrcode\n",
    "# pip install openpyxl"
   ]
  },
  {
   "cell_type": "code",
   "execution_count": null,
   "id": "a9030157",
   "metadata": {},
   "outputs": [],
   "source": [
    "import pandas as pd\n",
    "import qrcode\n",
    "import openpyxl\n",
    "from PIL import Image \n",
    "\n",
    "# open the excel file\n",
    "fileName = \"qrg_back_office_product_pricing_clean_slate.xlsx\"\n",
    "cleanSlate = pd.read_excel(fileName)\n",
    "\n",
    "# make a qrcode for everything in the ItemNumber column and save it in the folder called \"qr\"\n",
    "for each in cleanSlate.ItemNumber:\n",
    "    img = qrcode.make(each)\n",
    "    img.save('qr/'+str(each)+'.png')"
   ]
  },
  {
   "cell_type": "code",
   "execution_count": 14,
   "id": "c9789d9f",
   "metadata": {},
   "outputs": [],
   "source": [
    "from openpyxl import Workbook\n",
    "from openpyxl import load_workbook\n",
    "\n",
    "# use openpyxl to open the workbook and open the worksheet we want\n",
    "wb = load_workbook('qrg_back_office_product_pricing_clean_slate.xlsx')\n",
    "ws = wb.active"
   ]
  },
  {
   "cell_type": "code",
   "execution_count": 16,
   "id": "646a0613",
   "metadata": {},
   "outputs": [],
   "source": [
    "from PIL import Image \n",
    "from openpyxl import Workbook\n",
    "from openpyxl.drawing.image import Image as XLImage\n",
    "\n",
    "# for each item number, get the associated png and add the image to column G\n",
    "for count, value in enumerate(ws['F'], start=1):\n",
    "    if(value.value == 'ItemNumber'):\n",
    "        continue\n",
    "    path = 'qr/'+str(value.value)+'.png'\n",
    "    xl_img = XLImage(path)\n",
    "    \n",
    "    cell = 'G'+str(count)\n",
    "    ws.add_image(xl_img, cell)"
   ]
  },
  {
   "cell_type": "code",
   "execution_count": 17,
   "id": "cd38cceb",
   "metadata": {},
   "outputs": [],
   "source": [
    "# save and close - this is important if you want everything you did to actually save to the workbook\n",
    "wb.save(\"qrg_back_office_product_pricing_clean_slate.xlsx\")\n",
    "wb.close()\n",
    "\n",
    "# note that when you open the file up, it may time some time to render all the images.\n",
    "# once you do, you may need to resize all the rows. Resizing them to 280 worked for me, but your mileage may vary\n",
    "# to resize the column, you can drag the column to where you want it"
   ]
  },
  {
   "cell_type": "code",
   "execution_count": null,
   "id": "11be1d14",
   "metadata": {},
   "outputs": [],
   "source": []
  }
 ],
 "metadata": {
  "kernelspec": {
   "display_name": "Python 3",
   "language": "python",
   "name": "python3"
  },
  "language_info": {
   "codemirror_mode": {
    "name": "ipython",
    "version": 3
   },
   "file_extension": ".py",
   "mimetype": "text/x-python",
   "name": "python",
   "nbconvert_exporter": "python",
   "pygments_lexer": "ipython3",
   "version": "3.9.1"
  }
 },
 "nbformat": 4,
 "nbformat_minor": 5
}
